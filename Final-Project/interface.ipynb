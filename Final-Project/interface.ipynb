{
 "cells": [
  {
   "cell_type": "code",
   "execution_count": 1,
   "metadata": {},
   "outputs": [
    {
     "name": "stdout",
     "output_type": "stream",
     "text": [
      "Requirement already satisfied: numpy in /home/syntheticdemon/Desktop/something/PyTorch-User-Mannual/.venv/lib/python3.10/site-packages (2.2.2)\n"
     ]
    }
   ],
   "source": [
    "!pip install numpy"
   ]
  },
  {
   "cell_type": "code",
   "execution_count": 2,
   "metadata": {},
   "outputs": [
    {
     "name": "stdout",
     "output_type": "stream",
     "text": [
      "Requirement already satisfied: opencv-python in /home/syntheticdemon/Desktop/something/PyTorch-User-Mannual/.venv/lib/python3.10/site-packages (4.11.0.86)\n",
      "Requirement already satisfied: numpy>=1.21.2 in /home/syntheticdemon/Desktop/something/PyTorch-User-Mannual/.venv/lib/python3.10/site-packages (from opencv-python) (2.2.2)\n"
     ]
    }
   ],
   "source": [
    "!pip install opencv-python"
   ]
  },
  {
   "cell_type": "code",
   "execution_count": 3,
   "metadata": {},
   "outputs": [
    {
     "name": "stdout",
     "output_type": "stream",
     "text": [
      "Requirement already satisfied: PySimpleGUI in /home/syntheticdemon/Desktop/something/PyTorch-User-Mannual/.venv/lib/python3.10/site-packages (5.0.8)\n",
      "Requirement already satisfied: rsa in /home/syntheticdemon/Desktop/something/PyTorch-User-Mannual/.venv/lib/python3.10/site-packages (from PySimpleGUI) (4.9)\n",
      "Requirement already satisfied: pyasn1>=0.1.3 in /home/syntheticdemon/Desktop/something/PyTorch-User-Mannual/.venv/lib/python3.10/site-packages (from rsa->PySimpleGUI) (0.6.1)\n"
     ]
    }
   ],
   "source": [
    "!pip install PySimpleGUI"
   ]
  },
  {
   "cell_type": "code",
   "execution_count": 4,
   "metadata": {},
   "outputs": [],
   "source": [
    "import numpy as np\n",
    "import cv2\n",
    "import os.path\n",
    "import PySimpleGUI as sg"
   ]
  },
  {
   "cell_type": "code",
   "execution_count": 5,
   "metadata": {},
   "outputs": [],
   "source": [
    "version = \"7 June 2020\"\n",
    "\n",
    "prototxt = r\"colorization_deploy_v2.prototxt\"\n",
    "model = r\"colorization_release_v2.caffemodel\"\n",
    "points = r\"pts_in_hull.npy\"\n",
    "\n",
    "points = os.path.join(os.path.dirname(\"./\"), points)\n",
    "prototxt = os.path.join(os.path.dirname(\"./\"), prototxt)\n",
    "model = os.path.join(os.path.dirname(\"./\"), model)\n",
    "if not os.path.isfile(model):\n",
    "    sg.popup_scrolled(\n",
    "        \"Missing model file\",\n",
    "        'You are missing the file \"colorization_release_v2.caffemodel\"',\n",
    "        'Download it and place into your \"model\" folder',\n",
    "        \"You can download this file from this location:\\n\",\n",
    "        r\"https://www.dropbox.com/s/dx0qvhhp5hbcx7z/colorization_release_v2.caffemodel?dl=1\",\n",
    "    )\n",
    "    exit()\n",
    "net = cv2.dnn.readNetFromCaffe(prototxt, model)  # load model from disk\n",
    "pts = np.load(points)"
   ]
  },
  {
   "cell_type": "code",
   "execution_count": 6,
   "metadata": {},
   "outputs": [],
   "source": [
    "# add the cluster centers as 1x1 convolutions to the model\n",
    "class8 = net.getLayerId(\"class8_ab\")\n",
    "conv8 = net.getLayerId(\"conv8_313_rh\")\n",
    "pts = pts.transpose().reshape(2, 313, 1, 1)\n",
    "net.getLayer(class8).blobs = [pts.astype(\"float32\")]\n",
    "net.getLayer(conv8).blobs = [np.full([1, 313], 2.606, dtype=\"float32\")]"
   ]
  },
  {
   "cell_type": "code",
   "execution_count": null,
   "metadata": {},
   "outputs": [
    {
     "name": "stderr",
     "output_type": "stream",
     "text": [
      "OpenCV: FFMPEG: tag 0x30395056/'VP90' is not supported with codec id 167 and format 'webm / WebM'\n"
     ]
    }
   ],
   "source": [
    "import cv2\n",
    "import numpy as np\n",
    "import os\n",
    "import PySimpleGUI as sg\n",
    "\n",
    "\n",
    "# Function to colorize an image (either from file or frame)\n",
    "def colorize_image(image_filename=None, cv2_frame=None):\n",
    "    image = cv2.imread(image_filename) if image_filename else cv2_frame\n",
    "    if image is None:\n",
    "        sg.popup_error(\"Error: Unable to load image.\")\n",
    "        return None, None\n",
    "    scaled = image.astype(\"float32\") / 255.0\n",
    "    lab = cv2.cvtColor(scaled, cv2.COLOR_BGR2LAB)\n",
    "\n",
    "    resized = cv2.resize(lab, (224, 224))\n",
    "    L = cv2.split(resized)[0]\n",
    "    L -= 50\n",
    "\n",
    "    net.setInput(cv2.dnn.blobFromImage(L))\n",
    "    ab = net.forward()[0, :, :, :].transpose((1, 2, 0))\n",
    "    ab = cv2.resize(ab, (image.shape[1], image.shape[0]))\n",
    "\n",
    "    L = cv2.split(lab)[0]\n",
    "    colorized = np.concatenate((L[:, :, np.newaxis], ab), axis=2)\n",
    "    colorized = cv2.cvtColor(colorized, cv2.COLOR_LAB2BGR)\n",
    "    colorized = np.clip(colorized, 0, 1)\n",
    "    colorized = (255 * colorized).astype(\"uint8\")\n",
    "    return image, colorized\n",
    "\n",
    "\n",
    "# Function to process a video and colorize frame-by-frame\n",
    "def process_video(video_path, window, output_path=None):\n",
    "    cap = cv2.VideoCapture(video_path)\n",
    "    if not cap.isOpened():\n",
    "        sg.popup_error(\"Error: Unable to open video file.\")\n",
    "        return\n",
    "\n",
    "    fourcc = None\n",
    "    if output_path:\n",
    "        if output_path.lower().endswith(\".avi\"):\n",
    "            fourcc = cv2.VideoWriter_fourcc(*\"XVID\")\n",
    "        elif output_path.lower().endswith(\".mp4\"):\n",
    "            fourcc = cv2.VideoWriter_fourcc(*\"mp4v\")\n",
    "        elif output_path.lower().endswith(\".webm\"):\n",
    "            fourcc = cv2.VideoWriter_fourcc(*\"VP90\")\n",
    "        else:\n",
    "            sg.popup_error(\"Unsupported file format. Use .avi, .mp4, or .webm\")\n",
    "            return\n",
    "\n",
    "        fps = int(cap.get(cv2.CAP_PROP_FPS))\n",
    "        frame_size = (\n",
    "            int(cap.get(cv2.CAP_PROP_FRAME_WIDTH)),\n",
    "            int(cap.get(cv2.CAP_PROP_FRAME_HEIGHT)),\n",
    "        )\n",
    "        out = cv2.VideoWriter(output_path, fourcc, fps, frame_size)\n",
    "    else:\n",
    "        out = None\n",
    "\n",
    "    stop_processing = False\n",
    "    while cap.isOpened() and not stop_processing:\n",
    "        ret, frame = cap.read()\n",
    "        if not ret:\n",
    "            break\n",
    "        gray_frame = convert_to_grayscale(frame)\n",
    "        window[\"-IN-\"].update(data=cv2.imencode(\".png\", gray_frame)[1].tobytes())\n",
    "        _, colorized_frame = colorize_image(cv2_frame=gray_frame)\n",
    "        if colorized_frame is None:\n",
    "            break\n",
    "        if out:\n",
    "            out.write(colorized_frame)\n",
    "        colorized_frame = cv2.resize(colorized_frame, (400, 400))\n",
    "        imgbytes = cv2.imencode(\".png\", colorized_frame)[1].tobytes()\n",
    "        window[\"-OUT-\"].update(data=imgbytes)\n",
    "        event, _ = window.read(timeout=10)\n",
    "        if event in (None, \"Exit\", \"-STOP-\"):\n",
    "            stop_processing = True\n",
    "    cap.release()\n",
    "    if out:\n",
    "        out.release()\n",
    "\n",
    "\n",
    "# Function to convert an image to grayscale\n",
    "def convert_to_grayscale(frame):\n",
    "    gray = cv2.cvtColor(frame, cv2.COLOR_BGR2GRAY)\n",
    "    return np.stack((gray,) * 3, axis=-1)\n",
    "\n",
    "\n",
    "# Define UI theme\n",
    "sg.theme(\"DarkBlue3\")\n",
    "\n",
    "# Define UI layout\n",
    "layout = [\n",
    "    [\n",
    "        sg.Text(\"Input File:\", font=(\"Arial\", 14)),\n",
    "        sg.InputText(size=(50, 1), enable_events=True, key=\"-IN FILE-\"),\n",
    "        sg.FileBrowse(button_text=\"Browse\", size=(10, 1)),\n",
    "    ],\n",
    "    [\n",
    "        sg.Button(\"Colorize Photo\", key=\"-PHOTO-\", size=(15, 1)),\n",
    "        sg.Button(\"Colorize Video\", key=\"-VIDEO-\", size=(15, 1)),\n",
    "        sg.Button(\"Stop\", key=\"-STOP-\", size=(10, 1)),\n",
    "        sg.Button(\"Save Image\", key=\"-SAVE-\", size=(12, 1)),\n",
    "        sg.Button(\"Save Video\", key=\"-SAVE VIDEO-\", size=(12, 1)),\n",
    "        sg.Button(\"Exit\", size=(10, 1)),\n",
    "    ],\n",
    "    [\n",
    "        sg.Frame(\n",
    "            \"Original Image/Video\",\n",
    "            [[sg.Image(filename=\"\", key=\"-IN-\", size=(400, 400))]],\n",
    "        ),\n",
    "        sg.Frame(\n",
    "            \"Colorized Image/Video\",\n",
    "            [[sg.Image(filename=\"\", key=\"-OUT-\", size=(400, 400))]],\n",
    "        ),\n",
    "    ],\n",
    "]\n",
    "\n",
    "# Create window\n",
    "window = sg.Window(\n",
    "    \"Photo & Video Colorizer\", layout, size=(900, 650), resizable=True, finalize=True\n",
    ")\n",
    "\n",
    "# Event loop\n",
    "while True:\n",
    "    event, values = window.read()\n",
    "    if event in (None, \"Exit\"):\n",
    "        break\n",
    "    elif event == \"-PHOTO-\":\n",
    "        filename = values[\"-IN FILE-\"]\n",
    "        if filename:\n",
    "            image, colorized = colorize_image(filename)\n",
    "            if image is not None and colorized is not None:\n",
    "                image = cv2.resize(image, (400, 400))\n",
    "                colorized = cv2.resize(colorized, (400, 400))\n",
    "                window[\"-IN-\"].update(data=cv2.imencode(\".png\", image)[1].tobytes())\n",
    "                window[\"-OUT-\"].update(\n",
    "                    data=cv2.imencode(\".png\", colorized)[1].tobytes()\n",
    "                )\n",
    "    elif event == \"-VIDEO-\":\n",
    "        filename = values[\"-IN FILE-\"]\n",
    "        if filename:\n",
    "            process_video(filename, window)\n",
    "    elif event == \"-SAVE-\":\n",
    "        filename = sg.popup_get_file(\n",
    "            \"Save Image\", save_as=True, default_extension=\".png\"\n",
    "        )\n",
    "        if filename:\n",
    "            img = window[\"-OUT-\"].Widget.image\n",
    "            if img is not None:\n",
    "                cv2.imwrite(filename, img)\n",
    "    elif event == \"-SAVE VIDEO-\":\n",
    "        filename = sg.popup_get_file(\n",
    "            \"Save Video\", save_as=True, default_extension=\".avi\"\n",
    "        )\n",
    "        if filename:\n",
    "            process_video(values[\"-IN FILE-\"], window, output_path=filename)\n",
    "\n",
    "# Close window\n",
    "window.close()"
   ]
  }
 ],
 "metadata": {
  "kernelspec": {
   "display_name": ".venv",
   "language": "python",
   "name": "python3"
  },
  "language_info": {
   "codemirror_mode": {
    "name": "ipython",
    "version": 3
   },
   "file_extension": ".py",
   "mimetype": "text/x-python",
   "name": "python",
   "nbconvert_exporter": "python",
   "pygments_lexer": "ipython3",
   "version": "3.10.13"
  }
 },
 "nbformat": 4,
 "nbformat_minor": 2
}
